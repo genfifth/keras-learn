{
 "cells": [
  {
   "cell_type": "markdown",
   "metadata": {},
   "source": [
    "# 0. Import module & Load data"
   ]
  },
  {
   "cell_type": "code",
   "execution_count": null,
   "metadata": {},
   "outputs": [],
   "source": [
    "import numpy as np, pandas as pd\n",
    "from sklearn import datasets, preprocessing\n",
    "from sklearn.model_selection import train_test_split, GridSearchCV\n",
    "from sklearn.metrics import accuracy_score\n",
    "from keras.models import Sequential, Input, Model\n",
    "from keras.layers.core import Dense, Activation\n",
    "from keras.utils import np_utils\n",
    "from keras import backend as K\n",
    "\n",
    "from kslearn import KerasModel, KerasClassifier, KerasRegressor\n",
    "from kslearn import run_tb, display_log\n",
    "\n",
    "iris = datasets.load_iris()\n",
    "x = preprocessing.scale(iris.data)\n",
    "y = iris.target\n",
    "x, x_test, y, y_test = train_test_split(x, y, train_size=0.7)"
   ]
  },
  {
   "cell_type": "markdown",
   "metadata": {},
   "source": [
    "# 1. Defining network\n",
    "When you want to load trained model, it is defined in this function."
   ]
  },
  {
   "cell_type": "code",
   "execution_count": null,
   "metadata": {},
   "outputs": [],
   "source": [
    "num_classes = 3\n",
    "def mk_nw(activation=\"relu\", optimizer=\"adam\", out_dim=8):\n",
    "    inputs = Input(shape=(4,)) \n",
    "    x = Dense(out_dim, kernel_initializer=\"normal\")(inputs)\n",
    "    x = Dense(num_classes, kernel_initializer=\"normal\")(x)\n",
    "    model = Model(inputs=inputs, outputs=x)\n",
    "    model.compile(loss='categorical_crossentropy', optimizer=optimizer, metrics=['accuracy'])\n",
    "    return model"
   ]
  },
  {
   "cell_type": "markdown",
   "metadata": {},
   "source": [
    "# 2. Defining wrapper class"
   ]
  },
  {
   "cell_type": "code",
   "execution_count": null,
   "metadata": {},
   "outputs": [],
   "source": [
    "model = KerasClassifier(build_fn=mk_nw)"
   ]
  },
  {
   "cell_type": "markdown",
   "metadata": {},
   "source": [
    "# 3. Run\n",
    "## 3-1. fit & predict"
   ]
  },
  {
   "cell_type": "code",
   "execution_count": null,
   "metadata": {
    "scrolled": false
   },
   "outputs": [],
   "source": [
    "model.fit(x, y, epochs=32)\n",
    "print(accuracy_score(y_test, model.predict(x_test)))"
   ]
  },
  {
   "cell_type": "markdown",
   "metadata": {},
   "source": [
    "## 3-2. Gridseach"
   ]
  },
  {
   "cell_type": "code",
   "execution_count": null,
   "metadata": {},
   "outputs": [],
   "source": [
    "activation = [\"relu\"]\n",
    "optimizer = [\"adam\", \"SGD\"]\n",
    "out_dim = [2, 4, 8, 16]\n",
    "epochs = [32]\n",
    "batch_size = [64]\n",
    "param_grid = dict(activation=activation, \n",
    "                  optimizer=optimizer, \n",
    "                  out_dim=out_dim, \n",
    "                  epochs=epochs, \n",
    "                  batch_size=batch_size)\n",
    "\n",
    "model = KerasClassifier(build_fn=mk_nw, verbose=0)\n",
    "grid = GridSearchCV(estimator=model, param_grid=param_grid, return_train_score=True)\n",
    "grid.fit(x, y)"
   ]
  },
  {
   "cell_type": "code",
   "execution_count": null,
   "metadata": {},
   "outputs": [],
   "source": []
  }
 ],
 "metadata": {
  "kernelspec": {
   "display_name": "Python 3",
   "language": "python",
   "name": "python3"
  },
  "language_info": {
   "codemirror_mode": {
    "name": "ipython",
    "version": 3
   },
   "file_extension": ".py",
   "mimetype": "text/x-python",
   "name": "python",
   "nbconvert_exporter": "python",
   "pygments_lexer": "ipython3",
   "version": "3.6.3"
  }
 },
 "nbformat": 4,
 "nbformat_minor": 2
}
